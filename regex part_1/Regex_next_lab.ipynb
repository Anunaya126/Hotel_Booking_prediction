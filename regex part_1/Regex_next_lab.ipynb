{
  "nbformat": 4,
  "nbformat_minor": 0,
  "metadata": {
    "colab": {
      "name": "Regex_next_lab.ipynb",
      "provenance": [],
      "collapsed_sections": []
    },
    "kernelspec": {
      "name": "python3",
      "display_name": "Python 3"
    },
    "language_info": {
      "name": "python"
    }
  },
  "cells": [
    {
      "cell_type": "markdown",
      "source": [
        "#Write a regex to extract all the numbers with orange color background from the below text in italics.#\n",
        "\n",
        "\n",
        "{\"orders\":[{\"id\":1},{\"id\":2},{\"id\":3},{\"id\":4},{\"id\":5},{\"id\":6},{\"id\":7},{\"id\":8},{\"id\":9},{\"id\":10},{\"id\":11},{\"id\":648},{\"id\":649},{\"id\":650},{\"id\":651},{\"id\":652},{\"id\":653}],\"errors\":[{\"code\":3,\"message\":\"[PHP Warning #2] count(): Parameter must be an array or an object that implements Countable (153)\"}]} italicized text\n",
        "\n"
      ],
      "metadata": {
        "id": "iQ3_urbLKr5I"
      }
    },
    {
      "cell_type": "markdown",
      "source": [
        "Importing libraries"
      ],
      "metadata": {
        "id": "ygLydhR3LHdD"
      }
    },
    {
      "cell_type": "code",
      "execution_count": null,
      "metadata": {
        "id": "IsUL-OfxCq0L"
      },
      "outputs": [],
      "source": [
        "import re"
      ]
    },
    {
      "cell_type": "markdown",
      "source": [
        "Input the required string as my_str variable"
      ],
      "metadata": {
        "id": "2h2AQdmfLLST"
      }
    },
    {
      "cell_type": "code",
      "source": [
        "my_str=\"\"\"\n",
        "{\"orders\":[{\"id\":1},{\"id\":2},{\"id\":3},{\"id\":4},{\"id\":5},{\"id\":6},{\"id\":7},{\"id\":8},{\"id\":9},{\"id\":10},{\"id\":11},{\"id\":648},{\"id\":649},{\"id\":650},{\"id\":651},{\"id\":652},{\"id\":653}],\"errors\":[{\"code\":3,\"message\":\"[PHP Warning #2] count(): Parameter must be an array or an object that implements Countable (153)\"}]}\n",
        "\"\"\""
      ],
      "metadata": {
        "id": "Uot_muoRCv6w"
      },
      "execution_count": null,
      "outputs": []
    },
    {
      "cell_type": "markdown",
      "source": [
        "Using regular expression to extract the pattern \"id\":(num) and \"code\":(num) and appending it in the output list"
      ],
      "metadata": {
        "id": "NB-nkUb2LeqV"
      }
    },
    {
      "cell_type": "code",
      "source": [
        "matches=re.findall('\"id\":[0-9]+',my_str)\n",
        "output_list=[]\n",
        "for match in matches:\n",
        "    output_list.append(match)\n",
        "matches2=re.findall('\"code\":[0-9]+',my_str)\n",
        "for i in matches2:\n",
        "  output_list.append(i)\n",
        "    \n",
        "output_list    "
      ],
      "metadata": {
        "colab": {
          "base_uri": "https://localhost:8080/"
        },
        "id": "lNKd1brXC7SN",
        "outputId": "b141b0e0-2054-4950-f70e-47c81816d1df"
      },
      "execution_count": null,
      "outputs": [
        {
          "output_type": "execute_result",
          "data": {
            "text/plain": [
              "['\"id\":1',\n",
              " '\"id\":2',\n",
              " '\"id\":3',\n",
              " '\"id\":4',\n",
              " '\"id\":5',\n",
              " '\"id\":6',\n",
              " '\"id\":7',\n",
              " '\"id\":8',\n",
              " '\"id\":9',\n",
              " '\"id\":10',\n",
              " '\"id\":11',\n",
              " '\"id\":648',\n",
              " '\"id\":649',\n",
              " '\"id\":650',\n",
              " '\"id\":651',\n",
              " '\"id\":652',\n",
              " '\"id\":653',\n",
              " '\"code\":3']"
            ]
          },
          "metadata": {},
          "execution_count": 19
        }
      ]
    },
    {
      "cell_type": "markdown",
      "source": [
        "Extracting the numbers and appending it in the final list as output"
      ],
      "metadata": {
        "id": "yy4ozxUWL9jR"
      }
    },
    {
      "cell_type": "code",
      "source": [
        "final_list=[]\n",
        "for i in output_list:\n",
        "  x=re.findall('[0-9]+',i)\n",
        "  for j  in x:\n",
        "    final_list.append(int(j))\n",
        "print(final_list)\n"
      ],
      "metadata": {
        "colab": {
          "base_uri": "https://localhost:8080/"
        },
        "id": "FgCnSH5LE8SB",
        "outputId": "01e7e142-0490-4f04-9b21-1d847c24e988"
      },
      "execution_count": null,
      "outputs": [
        {
          "output_type": "stream",
          "name": "stdout",
          "text": [
            "[1, 2, 3, 4, 5, 6, 7, 8, 9, 10, 11, 648, 649, 650, 651, 652, 653, 3]\n"
          ]
        }
      ]
    }
  ]
}